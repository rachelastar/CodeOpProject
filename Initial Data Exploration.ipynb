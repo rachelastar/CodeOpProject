{
 "cells": [
  {
   "cell_type": "markdown",
   "id": "c87e3222-e1ff-4d3b-907c-f11adf5e94e7",
   "metadata": {},
   "source": [
    "## Exploring Mammal Species Records within the North East of England ##"
   ]
  },
  {
   "cell_type": "markdown",
   "id": "408bb2e8-7f02-4784-898a-0d1db0729b18",
   "metadata": {},
   "source": [
    "#### Initial exploration and data cleaning - to-do: ####\n",
    "* ~~Check fields, remove any which are not useful~~\n",
    "* Check for N/As - do any need removing\n",
    "* Check for datetime fields, change any if necessary - combine Start Date and End Date where necessary just to 'Date'\n",
    "* Check for duplicates\n",
    "\n",
    "#### Objectives: ####\n",
    "* To understand recording of mammals within the North East of England, attempt to highlight any species biases within recording, and highlight any geographical biases or less-recorded areas.\n",
    "* Understand how recent events, such as the covid pandemic, have effected mammal recording, and whether we need to 'promote' submitting records or mammal surveying to better understand the populations and ecologies of mammals in the North East.\n",
    "\n",
    "#### Exploratory plots: ####\n",
    "* Data quality - check for verification status - use this as a consideration as we explore the rest of the data\n",
    "* Most common taxons - may present a good taxon to focus on for some further exploration (e.g. bats - what other detection has been used?)\n",
    "* Most common species\n",
    "* Time series - how count of records has changed over time - did covid have an effect?\n",
    "* How species record counts changed over time - dynamic graph where some of the top species can be selected\n",
    "* People - who has submitted the most records?\n",
    "* Detection - how have most of the records been detected? (likely human obs)\n",
    "* Look at observation remarks - use some NLP and pick out top keywords - does this vary between taxons?\n",
    "* Geographical variaiton - heatmap of record locations - remove sensitive species for this as noise will have been added"
   ]
  },
  {
   "cell_type": "code",
   "execution_count": 1,
   "id": "af47f9e0-349a-4d04-aac7-2c5916431cff",
   "metadata": {},
   "outputs": [],
   "source": [
    "#Importing packages needed\n",
    "import pandas as pd"
   ]
  },
  {
   "cell_type": "markdown",
   "id": "254ae615-4b7b-46c3-a579-27248a3f6ad0",
   "metadata": {},
   "source": [
    "#### Importing and merging datasets ####"
   ]
  },
  {
   "cell_type": "code",
   "execution_count": 33,
   "id": "defb84bf-aacd-4ef1-8a5f-1390ad57ea8f",
   "metadata": {},
   "outputs": [
    {
     "name": "stderr",
     "output_type": "stream",
     "text": [
      "/opt/anaconda3/lib/python3.8/site-packages/IPython/core/interactiveshell.py:3165: DtypeWarning: Columns (29) have mixed types.Specify dtype option on import or set low_memory=False.\n",
      "  has_raised = await self.run_ast_nodes(code_ast.body, cell_name,\n",
      "/opt/anaconda3/lib/python3.8/site-packages/IPython/core/interactiveshell.py:3165: DtypeWarning: Columns (30) have mixed types.Specify dtype option on import or set low_memory=False.\n",
      "  has_raised = await self.run_ast_nodes(code_ast.body, cell_name,\n"
     ]
    }
   ],
   "source": [
    "#importing initial csv files\n",
    "north_nland = pd.read_csv(\"data/North_Nland/North_Nland.csv\")\n",
    "south_nland = pd.read_csv(\"data/South_Nland/South_Nland.csv\")\n",
    "durham = pd.read_csv(\"data/Durham/Durham.csv\")"
   ]
  },
  {
   "cell_type": "code",
   "execution_count": 34,
   "id": "2b1f8eba-7b69-4bba-b695-43359ec5bb31",
   "metadata": {},
   "outputs": [
    {
     "data": {
      "text/plain": [
       "pandas.core.frame.DataFrame"
      ]
     },
     "execution_count": 34,
     "metadata": {},
     "output_type": "execute_result"
    }
   ],
   "source": [
    "type(north_nland)"
   ]
  },
  {
   "cell_type": "code",
   "execution_count": 3,
   "id": "64557071-a1ae-467f-94fa-d91918919176",
   "metadata": {},
   "outputs": [
    {
     "name": "stdout",
     "output_type": "stream",
     "text": [
      "Number of attributes: 56\n",
      "North Northumberland: 12923\n",
      "South Northumberland: 55230\n",
      "Durham: 55081\n",
      "Total records should be: 123234\n"
     ]
    }
   ],
   "source": [
    "#checking shape of files\n",
    "#all have 56 attributes\n",
    "\n",
    "print(\"Number of attributes:\", north_nland.shape[1])\n",
    "\n",
    "print(\"North Northumberland:\", north_nland.shape[0]) \n",
    "print(\"South Northumberland:\", south_nland.shape[0]) \n",
    "print(\"Durham:\", durham.shape[0])\n",
    "print(\"Total records should be:\", (north_nland.shape[0] + south_nland.shape[0] + durham.shape[0]))"
   ]
  },
  {
   "cell_type": "code",
   "execution_count": 38,
   "id": "e2ae044c-e6b1-445d-be55-07f25c8acfef",
   "metadata": {},
   "outputs": [
    {
     "name": "stdout",
     "output_type": "stream",
     "text": [
      "(123234, 56)\n"
     ]
    }
   ],
   "source": [
    "#Need to join datasets\n",
    "dfs=[north_nland, south_nland, durham]\n",
    "mammals = pd.concat(dfs, axis=0, ignore_index=True)\n",
    "print(mammals.shape)"
   ]
  },
  {
   "cell_type": "code",
   "execution_count": 5,
   "id": "1bcb4bb0-f24d-4b77-8073-47a0e1631b1d",
   "metadata": {},
   "outputs": [],
   "source": [
    "# Number of rows is correct, this is the dataset we will be using from here."
   ]
  },
  {
   "cell_type": "markdown",
   "id": "5887695d-95f2-4c8f-8107-1e58be7599da",
   "metadata": {},
   "source": [
    "#### Checking columns that can be removed ####"
   ]
  },
  {
   "cell_type": "code",
   "execution_count": 42,
   "id": "0a857dc2-96b6-4466-b377-6c491a94c982",
   "metadata": {
    "tags": []
   },
   "outputs": [
    {
     "name": "stdout",
     "output_type": "stream",
     "text": [
      "Index(['NBN Atlas record ID', 'Occurrence ID', 'Licence', 'Rightsholder',\n",
      "       'Scientific name', 'Taxon author', 'Name qualifier', 'Common name',\n",
      "       'Species ID (TVK)', 'Taxon Rank', 'Occurrence status', 'Start date',\n",
      "       'Start date day', 'Start date month', 'Start date year', 'End date',\n",
      "       'End date day', 'End date month', 'End date year', 'Locality', 'OSGR',\n",
      "       'Latitude (WGS84)', 'Longitude (WGS84)', 'Coordinate uncertainty (m)',\n",
      "       'Verbatim depth', 'Recorder', 'Determiner', 'Individual count',\n",
      "       'Abundance', 'Abundance scale', 'Organism scope', 'Organism remarks',\n",
      "       'Sex', 'Life stage', 'Occurrence remarks',\n",
      "       'Identification verification status', 'Basis of record', 'Survey key',\n",
      "       'Dataset name', 'Dataset ID', 'Data provider', 'Data provider ID',\n",
      "       'Institution code', 'Kingdom', 'Phylum', 'Class', 'Order', 'Family',\n",
      "       'Genus', 'OSGR 100km', 'OSGR 10km', 'OSGR 2km', 'OSGR 1km', 'Country',\n",
      "       'State/Province', 'Vitality'],\n",
      "      dtype='object')\n"
     ]
    },
    {
     "data": {
      "text/html": [
       "<div>\n",
       "<style scoped>\n",
       "    .dataframe tbody tr th:only-of-type {\n",
       "        vertical-align: middle;\n",
       "    }\n",
       "\n",
       "    .dataframe tbody tr th {\n",
       "        vertical-align: top;\n",
       "    }\n",
       "\n",
       "    .dataframe thead th {\n",
       "        text-align: right;\n",
       "    }\n",
       "</style>\n",
       "<table border=\"1\" class=\"dataframe\">\n",
       "  <thead>\n",
       "    <tr style=\"text-align: right;\">\n",
       "      <th></th>\n",
       "      <th>NBN Atlas record ID</th>\n",
       "      <th>Occurrence ID</th>\n",
       "      <th>Licence</th>\n",
       "      <th>Rightsholder</th>\n",
       "      <th>Scientific name</th>\n",
       "      <th>Taxon author</th>\n",
       "      <th>Name qualifier</th>\n",
       "      <th>Common name</th>\n",
       "      <th>Species ID (TVK)</th>\n",
       "      <th>Taxon Rank</th>\n",
       "      <th>...</th>\n",
       "      <th>Order</th>\n",
       "      <th>Family</th>\n",
       "      <th>Genus</th>\n",
       "      <th>OSGR 100km</th>\n",
       "      <th>OSGR 10km</th>\n",
       "      <th>OSGR 2km</th>\n",
       "      <th>OSGR 1km</th>\n",
       "      <th>Country</th>\n",
       "      <th>State/Province</th>\n",
       "      <th>Vitality</th>\n",
       "    </tr>\n",
       "  </thead>\n",
       "  <tbody>\n",
       "    <tr>\n",
       "      <th>0</th>\n",
       "      <td>fffcd4ac-6a6b-4a86-888a-131e7995a5a0</td>\n",
       "      <td>SR0001360004BM04</td>\n",
       "      <td>CC-BY-NC</td>\n",
       "      <td>Environmental Records Information Centre North...</td>\n",
       "      <td>Sciurus vulgaris</td>\n",
       "      <td>Linnaeus, 1758</td>\n",
       "      <td>NaN</td>\n",
       "      <td>Eurasian Red Squirrel</td>\n",
       "      <td>NBNSYS0000005108</td>\n",
       "      <td>species</td>\n",
       "      <td>...</td>\n",
       "      <td>Rodentia</td>\n",
       "      <td>Sciuridae</td>\n",
       "      <td>Sciurus</td>\n",
       "      <td>NU</td>\n",
       "      <td>NU03</td>\n",
       "      <td>NaN</td>\n",
       "      <td>NaN</td>\n",
       "      <td>United Kingdom</td>\n",
       "      <td>England</td>\n",
       "      <td>NaN</td>\n",
       "    </tr>\n",
       "    <tr>\n",
       "      <th>1</th>\n",
       "      <td>fe6d6b95-4986-4c93-9c37-8958324b7d14</td>\n",
       "      <td>SR0001360004BJIG</td>\n",
       "      <td>CC-BY-NC</td>\n",
       "      <td>Environmental Records Information Centre North...</td>\n",
       "      <td>Sciurus carolinensis</td>\n",
       "      <td>Gmelin, 1788</td>\n",
       "      <td>NaN</td>\n",
       "      <td>Eastern Grey Squirrel</td>\n",
       "      <td>NHMSYS0000332764</td>\n",
       "      <td>species</td>\n",
       "      <td>...</td>\n",
       "      <td>Rodentia</td>\n",
       "      <td>Sciuridae</td>\n",
       "      <td>Sciurus</td>\n",
       "      <td>NT</td>\n",
       "      <td>NT92</td>\n",
       "      <td>NaN</td>\n",
       "      <td>NaN</td>\n",
       "      <td>United Kingdom</td>\n",
       "      <td>England</td>\n",
       "      <td>NaN</td>\n",
       "    </tr>\n",
       "    <tr>\n",
       "      <th>2</th>\n",
       "      <td>fe157059-a0dd-4cf3-982e-001846e68afa</td>\n",
       "      <td>1618708</td>\n",
       "      <td>CC-BY-NC</td>\n",
       "      <td>The Mammal Society and Biological Records Centre</td>\n",
       "      <td>Mustela erminea</td>\n",
       "      <td>Linnaeus, 1758</td>\n",
       "      <td>NaN</td>\n",
       "      <td>Stoat</td>\n",
       "      <td>NBNSYS0000005127</td>\n",
       "      <td>species</td>\n",
       "      <td>...</td>\n",
       "      <td>Carnivora</td>\n",
       "      <td>Mustelidae</td>\n",
       "      <td>Mustela</td>\n",
       "      <td>NU</td>\n",
       "      <td>NU22</td>\n",
       "      <td>NU22E</td>\n",
       "      <td>NU2128</td>\n",
       "      <td>United Kingdom</td>\n",
       "      <td>England</td>\n",
       "      <td>NaN</td>\n",
       "    </tr>\n",
       "    <tr>\n",
       "      <th>3</th>\n",
       "      <td>fd3d9fae-b3b0-43c5-bcd4-f3ef4dc9370b</td>\n",
       "      <td>SR0001360004BGG1</td>\n",
       "      <td>CC-BY-NC</td>\n",
       "      <td>Environmental Records Information Centre North...</td>\n",
       "      <td>Sciurus vulgaris</td>\n",
       "      <td>Linnaeus, 1758</td>\n",
       "      <td>NaN</td>\n",
       "      <td>Eurasian Red Squirrel</td>\n",
       "      <td>NBNSYS0000005108</td>\n",
       "      <td>species</td>\n",
       "      <td>...</td>\n",
       "      <td>Rodentia</td>\n",
       "      <td>Sciuridae</td>\n",
       "      <td>Sciurus</td>\n",
       "      <td>NU</td>\n",
       "      <td>NU21</td>\n",
       "      <td>NaN</td>\n",
       "      <td>NaN</td>\n",
       "      <td>United Kingdom</td>\n",
       "      <td>England</td>\n",
       "      <td>NaN</td>\n",
       "    </tr>\n",
       "    <tr>\n",
       "      <th>4</th>\n",
       "      <td>fd386f4c-009f-41c7-a112-7a073b728b2e</td>\n",
       "      <td>18542451</td>\n",
       "      <td>CC-BY</td>\n",
       "      <td>The Mammal Society, and Biological Records Centre</td>\n",
       "      <td>Lepus europaeus</td>\n",
       "      <td>Pallas, 1778</td>\n",
       "      <td>NaN</td>\n",
       "      <td>Brown Hare</td>\n",
       "      <td>NHMSYS0000080218</td>\n",
       "      <td>species</td>\n",
       "      <td>...</td>\n",
       "      <td>Lagomorpha</td>\n",
       "      <td>Leporidae</td>\n",
       "      <td>Lepus</td>\n",
       "      <td>NU</td>\n",
       "      <td>NU13</td>\n",
       "      <td>NU13A</td>\n",
       "      <td>NU1130</td>\n",
       "      <td>United Kingdom</td>\n",
       "      <td>England</td>\n",
       "      <td>NaN</td>\n",
       "    </tr>\n",
       "  </tbody>\n",
       "</table>\n",
       "<p>5 rows × 56 columns</p>\n",
       "</div>"
      ],
      "text/plain": [
       "                    NBN Atlas record ID     Occurrence ID   Licence  \\\n",
       "0  fffcd4ac-6a6b-4a86-888a-131e7995a5a0  SR0001360004BM04  CC-BY-NC   \n",
       "1  fe6d6b95-4986-4c93-9c37-8958324b7d14  SR0001360004BJIG  CC-BY-NC   \n",
       "2  fe157059-a0dd-4cf3-982e-001846e68afa           1618708  CC-BY-NC   \n",
       "3  fd3d9fae-b3b0-43c5-bcd4-f3ef4dc9370b  SR0001360004BGG1  CC-BY-NC   \n",
       "4  fd386f4c-009f-41c7-a112-7a073b728b2e          18542451     CC-BY   \n",
       "\n",
       "                                        Rightsholder       Scientific name  \\\n",
       "0  Environmental Records Information Centre North...      Sciurus vulgaris   \n",
       "1  Environmental Records Information Centre North...  Sciurus carolinensis   \n",
       "2   The Mammal Society and Biological Records Centre       Mustela erminea   \n",
       "3  Environmental Records Information Centre North...      Sciurus vulgaris   \n",
       "4  The Mammal Society, and Biological Records Centre       Lepus europaeus   \n",
       "\n",
       "     Taxon author Name qualifier            Common name  Species ID (TVK)  \\\n",
       "0  Linnaeus, 1758            NaN  Eurasian Red Squirrel  NBNSYS0000005108   \n",
       "1    Gmelin, 1788            NaN  Eastern Grey Squirrel  NHMSYS0000332764   \n",
       "2  Linnaeus, 1758            NaN                  Stoat  NBNSYS0000005127   \n",
       "3  Linnaeus, 1758            NaN  Eurasian Red Squirrel  NBNSYS0000005108   \n",
       "4    Pallas, 1778            NaN             Brown Hare  NHMSYS0000080218   \n",
       "\n",
       "  Taxon Rank  ...       Order      Family    Genus  OSGR 100km  OSGR 10km  \\\n",
       "0    species  ...    Rodentia   Sciuridae  Sciurus          NU       NU03   \n",
       "1    species  ...    Rodentia   Sciuridae  Sciurus          NT       NT92   \n",
       "2    species  ...   Carnivora  Mustelidae  Mustela          NU       NU22   \n",
       "3    species  ...    Rodentia   Sciuridae  Sciurus          NU       NU21   \n",
       "4    species  ...  Lagomorpha   Leporidae    Lepus          NU       NU13   \n",
       "\n",
       "  OSGR 2km  OSGR 1km         Country  State/Province Vitality  \n",
       "0      NaN       NaN  United Kingdom         England      NaN  \n",
       "1      NaN       NaN  United Kingdom         England      NaN  \n",
       "2    NU22E    NU2128  United Kingdom         England      NaN  \n",
       "3      NaN       NaN  United Kingdom         England      NaN  \n",
       "4    NU13A    NU1130  United Kingdom         England      NaN  \n",
       "\n",
       "[5 rows x 56 columns]"
      ]
     },
     "execution_count": 42,
     "metadata": {},
     "output_type": "execute_result"
    }
   ],
   "source": [
    "#First checking column names to see what we can remove and the first 5 rows for context\n",
    "print(mammals.columns)\n",
    "\n",
    "mammals.head()"
   ]
  },
  {
   "cell_type": "code",
   "execution_count": 43,
   "id": "3d74d785-379d-4a89-86f5-a38c71f89b4a",
   "metadata": {},
   "outputs": [
    {
     "data": {
      "text/plain": [
       "present    123234\n",
       "Name: Occurrence status, dtype: int64"
      ]
     },
     "execution_count": 43,
     "metadata": {},
     "output_type": "execute_result"
    }
   ],
   "source": [
    "mammals['Occurrence status'].value_counts()\n",
    "#shows all occurrences are 'present' so no point in keeping this in."
   ]
  },
  {
   "cell_type": "code",
   "execution_count": 44,
   "id": "b9ffa35c-0a90-4cdd-9d9d-5c652ad2dde4",
   "metadata": {},
   "outputs": [
    {
     "data": {
      "text/html": [
       "<div>\n",
       "<style scoped>\n",
       "    .dataframe tbody tr th:only-of-type {\n",
       "        vertical-align: middle;\n",
       "    }\n",
       "\n",
       "    .dataframe tbody tr th {\n",
       "        vertical-align: top;\n",
       "    }\n",
       "\n",
       "    .dataframe thead th {\n",
       "        text-align: right;\n",
       "    }\n",
       "</style>\n",
       "<table border=\"1\" class=\"dataframe\">\n",
       "  <thead>\n",
       "    <tr style=\"text-align: right;\">\n",
       "      <th></th>\n",
       "      <th>Common name</th>\n",
       "      <th>Occurrence status</th>\n",
       "      <th>Start date</th>\n",
       "      <th>Start date day</th>\n",
       "      <th>Start date month</th>\n",
       "    </tr>\n",
       "  </thead>\n",
       "  <tbody>\n",
       "    <tr>\n",
       "      <th>0</th>\n",
       "      <td>Eurasian Red Squirrel</td>\n",
       "      <td>present</td>\n",
       "      <td>2014-12-19</td>\n",
       "      <td>19.0</td>\n",
       "      <td>12.0</td>\n",
       "    </tr>\n",
       "    <tr>\n",
       "      <th>1</th>\n",
       "      <td>Eastern Grey Squirrel</td>\n",
       "      <td>present</td>\n",
       "      <td>2015-12-20</td>\n",
       "      <td>20.0</td>\n",
       "      <td>12.0</td>\n",
       "    </tr>\n",
       "    <tr>\n",
       "      <th>2</th>\n",
       "      <td>Stoat</td>\n",
       "      <td>present</td>\n",
       "      <td>2014-12-14</td>\n",
       "      <td>14.0</td>\n",
       "      <td>12.0</td>\n",
       "    </tr>\n",
       "    <tr>\n",
       "      <th>3</th>\n",
       "      <td>Eurasian Red Squirrel</td>\n",
       "      <td>present</td>\n",
       "      <td>2014-12-05</td>\n",
       "      <td>5.0</td>\n",
       "      <td>12.0</td>\n",
       "    </tr>\n",
       "    <tr>\n",
       "      <th>4</th>\n",
       "      <td>Brown Hare</td>\n",
       "      <td>present</td>\n",
       "      <td>2020-12-31</td>\n",
       "      <td>31.0</td>\n",
       "      <td>12.0</td>\n",
       "    </tr>\n",
       "  </tbody>\n",
       "</table>\n",
       "</div>"
      ],
      "text/plain": [
       "             Common name Occurrence status  Start date  Start date day  \\\n",
       "0  Eurasian Red Squirrel           present  2014-12-19            19.0   \n",
       "1  Eastern Grey Squirrel           present  2015-12-20            20.0   \n",
       "2                  Stoat           present  2014-12-14            14.0   \n",
       "3  Eurasian Red Squirrel           present  2014-12-05             5.0   \n",
       "4             Brown Hare           present  2020-12-31            31.0   \n",
       "\n",
       "   Start date month  \n",
       "0              12.0  \n",
       "1              12.0  \n",
       "2              12.0  \n",
       "3              12.0  \n",
       "4              12.0  "
      ]
     },
     "execution_count": 44,
     "metadata": {},
     "output_type": "execute_result"
    }
   ],
   "source": [
    "#Using this to understand the date system\n",
    "mammals[['Common name', 'Occurrence status', 'Start date', 'Start date day', 'Start date month']].head()"
   ]
  },
  {
   "cell_type": "code",
   "execution_count": 45,
   "id": "000b9663-8762-4718-812c-a539dd99682b",
   "metadata": {},
   "outputs": [
    {
     "data": {
      "text/plain": [
       "Start date  End date\n",
       "False       True        98007\n",
       "True        True        20150\n",
       "False       False        5077\n",
       "dtype: int64"
      ]
     },
     "execution_count": 45,
     "metadata": {},
     "output_type": "execute_result"
    }
   ],
   "source": [
    "mammals[['Start date', 'End date']].isna().value_counts()\n",
    "#Most records have a start date but not an end date (logical as usually just the sighting date is recorded)\n",
    "# 5,077 records have no date - these will have to be removed\n",
    "# 20,150 records are missing a start date but not an end date - could combine to imply just a 'date' column?\n",
    "# Or remove these."
   ]
  },
  {
   "cell_type": "code",
   "execution_count": 46,
   "id": "ebaa6868-a814-40c4-b5c6-aba60a5011b1",
   "metadata": {
    "tags": []
   },
   "outputs": [
    {
     "data": {
      "text/plain": [
       "Class   \n",
       "Mammalia    123234\n",
       "dtype: int64"
      ]
     },
     "execution_count": 46,
     "metadata": {},
     "output_type": "execute_result"
    }
   ],
   "source": [
    "mammals[['Class']].value_counts()\n",
    "#Checking all records are definitely for mammals\n",
    "# Will delete Kingdom, Phylum, Class attributes as all will be the same.\n",
    "# Likewise for Country and State/Province\n",
    "\n",
    "# Deleting all extra OSGR columsn as I don't think they will be useful - the lat/long \n",
    "# will be more useful using Folium"
   ]
  },
  {
   "cell_type": "code",
   "execution_count": 47,
   "id": "75862e34-4c43-4418-baf8-2eb43559f47a",
   "metadata": {},
   "outputs": [
    {
     "data": {
      "text/plain": [
       "alive    21423\n",
       "dead      1394\n",
       "Name: Vitality, dtype: int64"
      ]
     },
     "execution_count": 47,
     "metadata": {},
     "output_type": "execute_result"
    }
   ],
   "source": [
    "mammals['Vitality'].value_counts()"
   ]
  },
  {
   "cell_type": "code",
   "execution_count": 48,
   "id": "a7dc63d1-4f94-4952-93ce-7ea5fb3c25e4",
   "metadata": {},
   "outputs": [],
   "source": [
    "#Final list of columns to keep in data\n",
    "\n",
    "cols_to_keep = ['Scientific name', 'Common name', 'Species ID (TVK)', 'Taxon Rank', \n",
    "                'Start date', 'End date', \n",
    "                'OSGR', 'Latitude (WGS84)', 'Longitude (WGS84)','Recorder', 'Determiner',\n",
    "                'Occurrence remarks',\n",
    "                'Identification verification status', 'Basis of record',\n",
    "                'Data provider',\n",
    "                'Order', 'Family', 'Genus', 'Vitality']"
   ]
  },
  {
   "cell_type": "code",
   "execution_count": 49,
   "id": "f23f7181-bceb-4925-a47d-0fa6f957b38f",
   "metadata": {},
   "outputs": [],
   "source": [
    "mammals_df = mammals[cols_to_keep]"
   ]
  },
  {
   "cell_type": "code",
   "execution_count": 50,
   "id": "e9afffe4-c451-40d2-9678-2c9bf55d48be",
   "metadata": {},
   "outputs": [
    {
     "data": {
      "text/plain": [
       "(123234, 19)"
      ]
     },
     "execution_count": 50,
     "metadata": {},
     "output_type": "execute_result"
    }
   ],
   "source": [
    "#Checking it worked. New shape 123,234 x 19 \n",
    "mammals_df.shape"
   ]
  },
  {
   "cell_type": "markdown",
   "id": "13470ee8-1dc3-4a73-915e-7d455dca96aa",
   "metadata": {},
   "source": [
    "#### Checking for NAs that may need to be removed ####\n",
    "\n",
    "NaNs in the 'Scientific name' column - whole record should be removed.\n",
    "\n",
    "NaNs in 'Common name' can be filled in. \n",
    "\n",
    "NaNs in both the Start & End date should be removed as it is not technically a valid record. \n",
    "\n",
    "Check for NaNs in Recorder - keep for now but consider this if looking at Recorder further down the line.\n",
    "\n",
    "Other NaNs should be okay. "
   ]
  },
  {
   "cell_type": "code",
   "execution_count": 51,
   "id": "b7799374-d795-4eef-b769-2143236fffe3",
   "metadata": {},
   "outputs": [
    {
     "name": "stdout",
     "output_type": "stream",
     "text": [
      "Scientific name \n",
      " False    123234\n",
      "Name: Scientific name, dtype: int64 \n",
      "\n",
      "Common name \n",
      " False    123102\n",
      "True        132\n",
      "Name: Common name, dtype: int64 \n",
      "\n",
      "Start date \n",
      " False    103084\n",
      "True      20150\n",
      "Name: Start date, dtype: int64 \n",
      "\n",
      "End date \n",
      " True     118157\n",
      "False      5077\n",
      "Name: End date, dtype: int64 \n",
      "\n",
      "Recorder \n",
      " True     69860\n",
      "False    53374\n",
      "Name: Recorder, dtype: int64 \n",
      "\n"
     ]
    }
   ],
   "source": [
    "variable_list = ['Scientific name', 'Common name', 'Start date', 'End date', 'Recorder']\n",
    "\n",
    "for i in variable_list: \n",
    "    print(i, \"\\n\", mammals_df[i].isna().value_counts(), \"\\n\")\n",
    "\n",
    "#mammals_df['Scientific name'].isna().value_counts()\n",
    "#no scientific names missing"
   ]
  },
  {
   "cell_type": "markdown",
   "id": "093620bd-837a-45b4-b206-c2c65f4e69d5",
   "metadata": {},
   "source": [
    "#### To-Do Next ####\n",
    "* Explore missing common names, can they be translated?\n",
    "* Sort out the dates - create a single 'Date' column, which uses the start date initially but the end date as a backup option. Any records still NaN can be removed."
   ]
  },
  {
   "cell_type": "markdown",
   "id": "f497efe1-f1ee-4356-9e0d-2c9592c839cb",
   "metadata": {},
   "source": [
    "### Missing Common Names ###\n",
    "Can they be translated?"
   ]
  },
  {
   "cell_type": "code",
   "execution_count": 52,
   "id": "980bd6cc-c8a0-4c6e-afca-4adaf05f215c",
   "metadata": {},
   "outputs": [],
   "source": [
    "missing_commons = mammals_df[mammals_df['Common name'].isna()]"
   ]
  },
  {
   "cell_type": "code",
   "execution_count": 53,
   "id": "a9d216d6-ff6e-472f-8f78-143b7546835d",
   "metadata": {},
   "outputs": [
    {
     "data": {
      "text/html": [
       "<div>\n",
       "<style scoped>\n",
       "    .dataframe tbody tr th:only-of-type {\n",
       "        vertical-align: middle;\n",
       "    }\n",
       "\n",
       "    .dataframe tbody tr th {\n",
       "        vertical-align: top;\n",
       "    }\n",
       "\n",
       "    .dataframe thead th {\n",
       "        text-align: right;\n",
       "    }\n",
       "</style>\n",
       "<table border=\"1\" class=\"dataframe\">\n",
       "  <thead>\n",
       "    <tr style=\"text-align: right;\">\n",
       "      <th></th>\n",
       "      <th>Scientific name</th>\n",
       "      <th>Common name</th>\n",
       "      <th>Species ID (TVK)</th>\n",
       "      <th>Taxon Rank</th>\n",
       "      <th>Start date</th>\n",
       "      <th>End date</th>\n",
       "      <th>OSGR</th>\n",
       "      <th>Latitude (WGS84)</th>\n",
       "      <th>Longitude (WGS84)</th>\n",
       "      <th>Recorder</th>\n",
       "      <th>Determiner</th>\n",
       "      <th>Occurrence remarks</th>\n",
       "      <th>Identification verification status</th>\n",
       "      <th>Basis of record</th>\n",
       "      <th>Data provider</th>\n",
       "      <th>Order</th>\n",
       "      <th>Family</th>\n",
       "      <th>Genus</th>\n",
       "      <th>Vitality</th>\n",
       "    </tr>\n",
       "  </thead>\n",
       "  <tbody>\n",
       "    <tr>\n",
       "      <th>548</th>\n",
       "      <td>Lepus</td>\n",
       "      <td>NaN</td>\n",
       "      <td>NBNSYS0000134513</td>\n",
       "      <td>genus</td>\n",
       "      <td>2013-09-28</td>\n",
       "      <td>NaN</td>\n",
       "      <td>NU01</td>\n",
       "      <td>55.428874</td>\n",
       "      <td>-1.922546</td>\n",
       "      <td>The Road Lab</td>\n",
       "      <td>NaN</td>\n",
       "      <td>Found dead on road</td>\n",
       "      <td>Accepted - considered correct</td>\n",
       "      <td>HumanObservation</td>\n",
       "      <td>The Road Lab UK</td>\n",
       "      <td>Lagomorpha</td>\n",
       "      <td>Leporidae</td>\n",
       "      <td>Lepus</td>\n",
       "      <td>dead</td>\n",
       "    </tr>\n",
       "    <tr>\n",
       "      <th>919</th>\n",
       "      <td>Lepus</td>\n",
       "      <td>NaN</td>\n",
       "      <td>NBNSYS0000134513</td>\n",
       "      <td>genus</td>\n",
       "      <td>2013-09-28</td>\n",
       "      <td>NaN</td>\n",
       "      <td>NU01</td>\n",
       "      <td>55.428874</td>\n",
       "      <td>-1.922546</td>\n",
       "      <td>The Road Lab</td>\n",
       "      <td>NaN</td>\n",
       "      <td>Found dead on road</td>\n",
       "      <td>Accepted - considered correct</td>\n",
       "      <td>HumanObservation</td>\n",
       "      <td>The Road Lab UK</td>\n",
       "      <td>Lagomorpha</td>\n",
       "      <td>Leporidae</td>\n",
       "      <td>Lepus</td>\n",
       "      <td>dead</td>\n",
       "    </tr>\n",
       "    <tr>\n",
       "      <th>3514</th>\n",
       "      <td>Nyctalus/Eptesicus agg.</td>\n",
       "      <td>NaN</td>\n",
       "      <td>NHMSYS0020499917</td>\n",
       "      <td>species aggregate</td>\n",
       "      <td>2022-07-18</td>\n",
       "      <td>NaN</td>\n",
       "      <td>NT9351</td>\n",
       "      <td>55.756815</td>\n",
       "      <td>-2.105135</td>\n",
       "      <td>Undisclosed</td>\n",
       "      <td>NaN</td>\n",
       "      <td>For Metadata go to https://registry.nbnatlas.o...</td>\n",
       "      <td>Accepted</td>\n",
       "      <td>HumanObservation</td>\n",
       "      <td>Bat Conservation Trust</td>\n",
       "      <td>Chiroptera</td>\n",
       "      <td>Vespertilionidae</td>\n",
       "      <td>Nyctalus</td>\n",
       "      <td>NaN</td>\n",
       "    </tr>\n",
       "    <tr>\n",
       "      <th>4490</th>\n",
       "      <td>Sorex</td>\n",
       "      <td>NaN</td>\n",
       "      <td>NBNSYS0000005080</td>\n",
       "      <td>genus</td>\n",
       "      <td>NaN</td>\n",
       "      <td>NaN</td>\n",
       "      <td>NT83L</td>\n",
       "      <td>55.590401</td>\n",
       "      <td>-2.239551</td>\n",
       "      <td>NaN</td>\n",
       "      <td>NaN</td>\n",
       "      <td>NaN</td>\n",
       "      <td>Unconfirmed - not reviewed</td>\n",
       "      <td>HumanObservation</td>\n",
       "      <td>The Wildlife Information Centre</td>\n",
       "      <td>Insectivora</td>\n",
       "      <td>Soricidae</td>\n",
       "      <td>Sorex</td>\n",
       "      <td>NaN</td>\n",
       "    </tr>\n",
       "    <tr>\n",
       "      <th>5027</th>\n",
       "      <td>Talpa</td>\n",
       "      <td>NaN</td>\n",
       "      <td>NBNSYS0000138222</td>\n",
       "      <td>genus</td>\n",
       "      <td>2014-08-14</td>\n",
       "      <td>NaN</td>\n",
       "      <td>NU11</td>\n",
       "      <td>55.428672</td>\n",
       "      <td>-1.764535</td>\n",
       "      <td>NaN</td>\n",
       "      <td>NaN</td>\n",
       "      <td>NaN</td>\n",
       "      <td>Unconfirmed - plausible</td>\n",
       "      <td>HumanObservation</td>\n",
       "      <td>Environmental Records Information Centre North...</td>\n",
       "      <td>Insectivora</td>\n",
       "      <td>Talpidae</td>\n",
       "      <td>Talpa</td>\n",
       "      <td>NaN</td>\n",
       "    </tr>\n",
       "  </tbody>\n",
       "</table>\n",
       "</div>"
      ],
      "text/plain": [
       "              Scientific name Common name  Species ID (TVK)  \\\n",
       "548                     Lepus         NaN  NBNSYS0000134513   \n",
       "919                     Lepus         NaN  NBNSYS0000134513   \n",
       "3514  Nyctalus/Eptesicus agg.         NaN  NHMSYS0020499917   \n",
       "4490                    Sorex         NaN  NBNSYS0000005080   \n",
       "5027                    Talpa         NaN  NBNSYS0000138222   \n",
       "\n",
       "             Taxon Rank  Start date End date    OSGR  Latitude (WGS84)  \\\n",
       "548               genus  2013-09-28      NaN    NU01         55.428874   \n",
       "919               genus  2013-09-28      NaN    NU01         55.428874   \n",
       "3514  species aggregate  2022-07-18      NaN  NT9351         55.756815   \n",
       "4490              genus         NaN      NaN   NT83L         55.590401   \n",
       "5027              genus  2014-08-14      NaN    NU11         55.428672   \n",
       "\n",
       "      Longitude (WGS84)      Recorder Determiner  \\\n",
       "548           -1.922546  The Road Lab        NaN   \n",
       "919           -1.922546  The Road Lab        NaN   \n",
       "3514          -2.105135   Undisclosed        NaN   \n",
       "4490          -2.239551           NaN        NaN   \n",
       "5027          -1.764535           NaN        NaN   \n",
       "\n",
       "                                     Occurrence remarks  \\\n",
       "548                                  Found dead on road   \n",
       "919                                  Found dead on road   \n",
       "3514  For Metadata go to https://registry.nbnatlas.o...   \n",
       "4490                                                NaN   \n",
       "5027                                                NaN   \n",
       "\n",
       "     Identification verification status   Basis of record  \\\n",
       "548       Accepted - considered correct  HumanObservation   \n",
       "919       Accepted - considered correct  HumanObservation   \n",
       "3514                           Accepted  HumanObservation   \n",
       "4490         Unconfirmed - not reviewed  HumanObservation   \n",
       "5027            Unconfirmed - plausible  HumanObservation   \n",
       "\n",
       "                                          Data provider        Order  \\\n",
       "548                                     The Road Lab UK   Lagomorpha   \n",
       "919                                     The Road Lab UK   Lagomorpha   \n",
       "3514                             Bat Conservation Trust   Chiroptera   \n",
       "4490                    The Wildlife Information Centre  Insectivora   \n",
       "5027  Environmental Records Information Centre North...  Insectivora   \n",
       "\n",
       "                Family     Genus Vitality  \n",
       "548          Leporidae     Lepus     dead  \n",
       "919          Leporidae     Lepus     dead  \n",
       "3514  Vespertilionidae  Nyctalus      NaN  \n",
       "4490         Soricidae     Sorex      NaN  \n",
       "5027          Talpidae     Talpa      NaN  "
      ]
     },
     "execution_count": 53,
     "metadata": {},
     "output_type": "execute_result"
    }
   ],
   "source": [
    "missing_commons.head()\n",
    "#Looking at this, the common names are missing because the scientific names are to genus level only - let's check"
   ]
  },
  {
   "cell_type": "code",
   "execution_count": 54,
   "id": "7337709b-2012-444e-97e5-ab6f44f241d6",
   "metadata": {},
   "outputs": [
    {
     "data": {
      "text/plain": [
       "family               76\n",
       "genus                42\n",
       "species aggregate     8\n",
       "breed                 4\n",
       "species               1\n",
       "order                 1\n",
       "Name: Taxon Rank, dtype: int64"
      ]
     },
     "execution_count": 54,
     "metadata": {},
     "output_type": "execute_result"
    }
   ],
   "source": [
    "missing_commons['Taxon Rank'].value_counts()\n",
    "# Let's look into the actual species..."
   ]
  },
  {
   "cell_type": "code",
   "execution_count": 55,
   "id": "27770894-cd94-44c1-9596-edb0c4b76cf1",
   "metadata": {},
   "outputs": [
    {
     "data": {
      "text/plain": [
       "Phocoenidae                                          43\n",
       "Talpa                                                20\n",
       "Talpidae                                             15\n",
       "Delphinidae                                          14\n",
       "Nyctalus/Eptesicus agg.                               8\n",
       "Mustela                                               6\n",
       "Sorex                                                 6\n",
       "Lepus                                                 5\n",
       "Sciuridae                                             4\n",
       "Arvicola                                              2\n",
       "Belted Galloway Cattle (including White Galloway)     2\n",
       "Microtus                                              1\n",
       "Mustela lutreola                                      1\n",
       "Erinaceus                                             1\n",
       "Badger Face Welsh Sheep                               1\n",
       "Highland Cattle                                       1\n",
       "Artiodactyla                                          1\n",
       "Macropus                                              1\n",
       "Name: Scientific name, dtype: int64"
      ]
     },
     "execution_count": 55,
     "metadata": {},
     "output_type": "execute_result"
    }
   ],
   "source": [
    "missing_commons['Scientific name'].value_counts()"
   ]
  },
  {
   "cell_type": "markdown",
   "id": "13cb60b0-2077-4aa2-ab2b-d3e7c51d7019",
   "metadata": {},
   "source": [
    "Many of these species include difficult to ID species such as aquatic mammals, voles which are similar and speedy, some domestic species (cattle & sheep), and there is even the kangaroo/wallaby genus in there!\n",
    "\n",
    "As these are not easy to translate or narrow down, and there are only a small proportion of NAs, I will remove these from the dataset."
   ]
  },
  {
   "cell_type": "code",
   "execution_count": 56,
   "id": "012c87dd-cd7d-443d-8e47-79764ccb52c5",
   "metadata": {},
   "outputs": [],
   "source": [
    "mammals_df = mammals_df[~mammals_df['Common name'].isna()]"
   ]
  },
  {
   "cell_type": "code",
   "execution_count": 57,
   "id": "805d5a23-a6c6-42e9-a307-0145f23e7a92",
   "metadata": {},
   "outputs": [
    {
     "data": {
      "text/plain": [
       "(123102, 19)"
      ]
     },
     "execution_count": 57,
     "metadata": {},
     "output_type": "execute_result"
    }
   ],
   "source": [
    "#should be left with 123,234 - 132 = 123,102 rows\n",
    "mammals_df.shape"
   ]
  },
  {
   "cell_type": "markdown",
   "id": "26143607-e4b2-4e20-af6d-b79e11496b37",
   "metadata": {},
   "source": [
    "### Date Cleaning ###\n",
    "* Identify any records missing BOTH start and end date - if there are not too many of these, remove them\n",
    "* Create a new 'date' column which has the start date if available, otherwise use the end date"
   ]
  },
  {
   "cell_type": "code",
   "execution_count": 58,
   "id": "7278e89c-9f0e-4481-bc85-827de00cb2c0",
   "metadata": {},
   "outputs": [
    {
     "data": {
      "text/plain": [
       "Start date  End date\n",
       "False       True        97878\n",
       "True        True        20148\n",
       "False       False        5076\n",
       "dtype: int64"
      ]
     },
     "execution_count": 58,
     "metadata": {},
     "output_type": "execute_result"
    }
   ],
   "source": [
    "mammals_df[['Start date', 'End date']].isna().value_counts()"
   ]
  },
  {
   "cell_type": "markdown",
   "id": "3e502d0e-43c1-46b2-a10e-f04052db21c5",
   "metadata": {},
   "source": [
    "There are 20,148 records with no date recorded. As we are looking within a particular timeframe for the dataset, I think it is best that these are removed as we cannot guarantee they are within the time period, unlike the rest of the data."
   ]
  },
  {
   "cell_type": "code",
   "execution_count": 59,
   "id": "1920a1f2-97d0-4816-9d88-80db36a962dd",
   "metadata": {},
   "outputs": [],
   "source": [
    "mammals_date = mammals_df[~((mammals_df['Start date'].isna()) & (mammals_df['End date'].isna()))]"
   ]
  },
  {
   "cell_type": "code",
   "execution_count": 60,
   "id": "bf374585-5d75-4422-b484-129ef571493f",
   "metadata": {},
   "outputs": [
    {
     "data": {
      "text/plain": [
       "(102954, 19)"
      ]
     },
     "execution_count": 60,
     "metadata": {},
     "output_type": "execute_result"
    }
   ],
   "source": [
    "# Should be 123,102 - 20,148 = 102,954\n",
    "mammals_date.shape"
   ]
  },
  {
   "cell_type": "code",
   "execution_count": 93,
   "id": "99aca684-ae82-4130-b483-246f5011e0ea",
   "metadata": {},
   "outputs": [
    {
     "name": "stdout",
     "output_type": "stream",
     "text": [
      "Hello\n",
      "Hello\n",
      "Hello\n",
      "Hello\n"
     ]
    }
   ],
   "source": [
    "for i in list([0,1,2,3]):\n",
    "    if mammals_date['Start date'].isna()[i] == False:\n",
    "        print(\"Hello\")"
   ]
  },
  {
   "cell_type": "code",
   "execution_count": 98,
   "id": "a253bead-382a-403a-bd5e-50934b866a2f",
   "metadata": {},
   "outputs": [
    {
     "ename": "KeyError",
     "evalue": "\"Passing list-likes to .loc or [] with any missing labels is no longer supported. The following labels were missing: Index([                                   'Sciurus vulgaris',\\n                                     'Eurasian Red Squirrel',\\n                                          'NBNSYS0000005108',\\n                                                   'species',\\n                                                '2014-12-19',\\n       ...\\n       'Environmental Records Information Centre North East',\\n                                                  'Rodentia',\\n                                                 'Sciuridae',\\n                                                   'Sciurus',\\n                                                         nan],\\n      dtype='object', length=19). See https://pandas.pydata.org/pandas-docs/stable/user_guide/indexing.html#deprecate-loc-reindex-listlike\"",
     "output_type": "error",
     "traceback": [
      "\u001b[0;31m---------------------------------------------------------------------------\u001b[0m",
      "\u001b[0;31mKeyError\u001b[0m                                  Traceback (most recent call last)",
      "\u001b[0;32m<ipython-input-98-7cd4d4a32f80>\u001b[0m in \u001b[0;36m<module>\u001b[0;34m\u001b[0m\n\u001b[1;32m      2\u001b[0m \u001b[0;34m\u001b[0m\u001b[0m\n\u001b[1;32m      3\u001b[0m \u001b[0;32mfor\u001b[0m \u001b[0mi\u001b[0m\u001b[0;34m,\u001b[0m \u001b[0mrow\u001b[0m \u001b[0;32min\u001b[0m \u001b[0mmammals_date\u001b[0m\u001b[0;34m.\u001b[0m\u001b[0miterrows\u001b[0m\u001b[0;34m(\u001b[0m\u001b[0;34m)\u001b[0m\u001b[0;34m:\u001b[0m\u001b[0;34m\u001b[0m\u001b[0;34m\u001b[0m\u001b[0m\n\u001b[0;32m----> 4\u001b[0;31m     \u001b[0;32mif\u001b[0m \u001b[0mmammals_date\u001b[0m\u001b[0;34m[\u001b[0m\u001b[0;34m'Start date'\u001b[0m\u001b[0;34m]\u001b[0m\u001b[0;34m.\u001b[0m\u001b[0misna\u001b[0m\u001b[0;34m(\u001b[0m\u001b[0;34m)\u001b[0m\u001b[0;34m[\u001b[0m\u001b[0mrow\u001b[0m\u001b[0;34m]\u001b[0m \u001b[0;34m==\u001b[0m \u001b[0;32mFalse\u001b[0m\u001b[0;34m:\u001b[0m\u001b[0;34m\u001b[0m\u001b[0;34m\u001b[0m\u001b[0m\n\u001b[0m\u001b[1;32m      5\u001b[0m         \u001b[0mmammals_date\u001b[0m\u001b[0;34m[\u001b[0m\u001b[0;34m'Date'\u001b[0m\u001b[0;34m]\u001b[0m\u001b[0;34m[\u001b[0m\u001b[0mrow\u001b[0m\u001b[0;34m]\u001b[0m \u001b[0;34m=\u001b[0m \u001b[0mmammals_date\u001b[0m\u001b[0;34m[\u001b[0m\u001b[0;34m'Start date'\u001b[0m\u001b[0;34m]\u001b[0m\u001b[0;34m[\u001b[0m\u001b[0mrow\u001b[0m\u001b[0;34m]\u001b[0m\u001b[0;34m\u001b[0m\u001b[0;34m\u001b[0m\u001b[0m\n\u001b[1;32m      6\u001b[0m     \u001b[0;32melif\u001b[0m \u001b[0mmammals_date\u001b[0m\u001b[0;34m[\u001b[0m\u001b[0;34m'End date'\u001b[0m\u001b[0;34m]\u001b[0m\u001b[0;34m.\u001b[0m\u001b[0misna\u001b[0m\u001b[0;34m(\u001b[0m\u001b[0;34m)\u001b[0m\u001b[0;34m[\u001b[0m\u001b[0mrow\u001b[0m\u001b[0;34m]\u001b[0m \u001b[0;34m==\u001b[0m \u001b[0;32mFalse\u001b[0m\u001b[0;34m:\u001b[0m\u001b[0;34m\u001b[0m\u001b[0;34m\u001b[0m\u001b[0m\n",
      "\u001b[0;32m/opt/anaconda3/lib/python3.8/site-packages/pandas/core/series.py\u001b[0m in \u001b[0;36m__getitem__\u001b[0;34m(self, key)\u001b[0m\n\u001b[1;32m    875\u001b[0m             \u001b[0;32mreturn\u001b[0m \u001b[0mself\u001b[0m\u001b[0;34m.\u001b[0m\u001b[0m_get_values\u001b[0m\u001b[0;34m(\u001b[0m\u001b[0mkey\u001b[0m\u001b[0;34m)\u001b[0m\u001b[0;34m\u001b[0m\u001b[0;34m\u001b[0m\u001b[0m\n\u001b[1;32m    876\u001b[0m \u001b[0;34m\u001b[0m\u001b[0m\n\u001b[0;32m--> 877\u001b[0;31m         \u001b[0;32mreturn\u001b[0m \u001b[0mself\u001b[0m\u001b[0;34m.\u001b[0m\u001b[0m_get_with\u001b[0m\u001b[0;34m(\u001b[0m\u001b[0mkey\u001b[0m\u001b[0;34m)\u001b[0m\u001b[0;34m\u001b[0m\u001b[0;34m\u001b[0m\u001b[0m\n\u001b[0m\u001b[1;32m    878\u001b[0m \u001b[0;34m\u001b[0m\u001b[0m\n\u001b[1;32m    879\u001b[0m     \u001b[0;32mdef\u001b[0m \u001b[0m_get_with\u001b[0m\u001b[0;34m(\u001b[0m\u001b[0mself\u001b[0m\u001b[0;34m,\u001b[0m \u001b[0mkey\u001b[0m\u001b[0;34m)\u001b[0m\u001b[0;34m:\u001b[0m\u001b[0;34m\u001b[0m\u001b[0;34m\u001b[0m\u001b[0m\n",
      "\u001b[0;32m/opt/anaconda3/lib/python3.8/site-packages/pandas/core/series.py\u001b[0m in \u001b[0;36m_get_with\u001b[0;34m(self, key)\u001b[0m\n\u001b[1;32m    915\u001b[0m \u001b[0;34m\u001b[0m\u001b[0m\n\u001b[1;32m    916\u001b[0m         \u001b[0;31m# handle the dup indexing case GH#4246\u001b[0m\u001b[0;34m\u001b[0m\u001b[0;34m\u001b[0m\u001b[0;34m\u001b[0m\u001b[0m\n\u001b[0;32m--> 917\u001b[0;31m         \u001b[0;32mreturn\u001b[0m \u001b[0mself\u001b[0m\u001b[0;34m.\u001b[0m\u001b[0mloc\u001b[0m\u001b[0;34m[\u001b[0m\u001b[0mkey\u001b[0m\u001b[0;34m]\u001b[0m\u001b[0;34m\u001b[0m\u001b[0;34m\u001b[0m\u001b[0m\n\u001b[0m\u001b[1;32m    918\u001b[0m \u001b[0;34m\u001b[0m\u001b[0m\n\u001b[1;32m    919\u001b[0m     \u001b[0;32mdef\u001b[0m \u001b[0m_get_values_tuple\u001b[0m\u001b[0;34m(\u001b[0m\u001b[0mself\u001b[0m\u001b[0;34m,\u001b[0m \u001b[0mkey\u001b[0m\u001b[0;34m)\u001b[0m\u001b[0;34m:\u001b[0m\u001b[0;34m\u001b[0m\u001b[0;34m\u001b[0m\u001b[0m\n",
      "\u001b[0;32m/opt/anaconda3/lib/python3.8/site-packages/pandas/core/indexing.py\u001b[0m in \u001b[0;36m__getitem__\u001b[0;34m(self, key)\u001b[0m\n\u001b[1;32m    893\u001b[0m \u001b[0;34m\u001b[0m\u001b[0m\n\u001b[1;32m    894\u001b[0m             \u001b[0mmaybe_callable\u001b[0m \u001b[0;34m=\u001b[0m \u001b[0mcom\u001b[0m\u001b[0;34m.\u001b[0m\u001b[0mapply_if_callable\u001b[0m\u001b[0;34m(\u001b[0m\u001b[0mkey\u001b[0m\u001b[0;34m,\u001b[0m \u001b[0mself\u001b[0m\u001b[0;34m.\u001b[0m\u001b[0mobj\u001b[0m\u001b[0;34m)\u001b[0m\u001b[0;34m\u001b[0m\u001b[0;34m\u001b[0m\u001b[0m\n\u001b[0;32m--> 895\u001b[0;31m             \u001b[0;32mreturn\u001b[0m \u001b[0mself\u001b[0m\u001b[0;34m.\u001b[0m\u001b[0m_getitem_axis\u001b[0m\u001b[0;34m(\u001b[0m\u001b[0mmaybe_callable\u001b[0m\u001b[0;34m,\u001b[0m \u001b[0maxis\u001b[0m\u001b[0;34m=\u001b[0m\u001b[0maxis\u001b[0m\u001b[0;34m)\u001b[0m\u001b[0;34m\u001b[0m\u001b[0;34m\u001b[0m\u001b[0m\n\u001b[0m\u001b[1;32m    896\u001b[0m \u001b[0;34m\u001b[0m\u001b[0m\n\u001b[1;32m    897\u001b[0m     \u001b[0;32mdef\u001b[0m \u001b[0m_is_scalar_access\u001b[0m\u001b[0;34m(\u001b[0m\u001b[0mself\u001b[0m\u001b[0;34m,\u001b[0m \u001b[0mkey\u001b[0m\u001b[0;34m:\u001b[0m \u001b[0mTuple\u001b[0m\u001b[0;34m)\u001b[0m\u001b[0;34m:\u001b[0m\u001b[0;34m\u001b[0m\u001b[0;34m\u001b[0m\u001b[0m\n",
      "\u001b[0;32m/opt/anaconda3/lib/python3.8/site-packages/pandas/core/indexing.py\u001b[0m in \u001b[0;36m_getitem_axis\u001b[0;34m(self, key, axis)\u001b[0m\n\u001b[1;32m   1111\u001b[0m                     \u001b[0;32mraise\u001b[0m \u001b[0mValueError\u001b[0m\u001b[0;34m(\u001b[0m\u001b[0;34m\"Cannot index with multidimensional key\"\u001b[0m\u001b[0;34m)\u001b[0m\u001b[0;34m\u001b[0m\u001b[0;34m\u001b[0m\u001b[0m\n\u001b[1;32m   1112\u001b[0m \u001b[0;34m\u001b[0m\u001b[0m\n\u001b[0;32m-> 1113\u001b[0;31m                 \u001b[0;32mreturn\u001b[0m \u001b[0mself\u001b[0m\u001b[0;34m.\u001b[0m\u001b[0m_getitem_iterable\u001b[0m\u001b[0;34m(\u001b[0m\u001b[0mkey\u001b[0m\u001b[0;34m,\u001b[0m \u001b[0maxis\u001b[0m\u001b[0;34m=\u001b[0m\u001b[0maxis\u001b[0m\u001b[0;34m)\u001b[0m\u001b[0;34m\u001b[0m\u001b[0;34m\u001b[0m\u001b[0m\n\u001b[0m\u001b[1;32m   1114\u001b[0m \u001b[0;34m\u001b[0m\u001b[0m\n\u001b[1;32m   1115\u001b[0m             \u001b[0;31m# nested tuple slicing\u001b[0m\u001b[0;34m\u001b[0m\u001b[0;34m\u001b[0m\u001b[0;34m\u001b[0m\u001b[0m\n",
      "\u001b[0;32m/opt/anaconda3/lib/python3.8/site-packages/pandas/core/indexing.py\u001b[0m in \u001b[0;36m_getitem_iterable\u001b[0;34m(self, key, axis)\u001b[0m\n\u001b[1;32m   1051\u001b[0m \u001b[0;34m\u001b[0m\u001b[0m\n\u001b[1;32m   1052\u001b[0m         \u001b[0;31m# A collection of keys\u001b[0m\u001b[0;34m\u001b[0m\u001b[0;34m\u001b[0m\u001b[0;34m\u001b[0m\u001b[0m\n\u001b[0;32m-> 1053\u001b[0;31m         \u001b[0mkeyarr\u001b[0m\u001b[0;34m,\u001b[0m \u001b[0mindexer\u001b[0m \u001b[0;34m=\u001b[0m \u001b[0mself\u001b[0m\u001b[0;34m.\u001b[0m\u001b[0m_get_listlike_indexer\u001b[0m\u001b[0;34m(\u001b[0m\u001b[0mkey\u001b[0m\u001b[0;34m,\u001b[0m \u001b[0maxis\u001b[0m\u001b[0;34m,\u001b[0m \u001b[0mraise_missing\u001b[0m\u001b[0;34m=\u001b[0m\u001b[0;32mFalse\u001b[0m\u001b[0;34m)\u001b[0m\u001b[0;34m\u001b[0m\u001b[0;34m\u001b[0m\u001b[0m\n\u001b[0m\u001b[1;32m   1054\u001b[0m         return self.obj._reindex_with_indexers(\n\u001b[1;32m   1055\u001b[0m             \u001b[0;34m{\u001b[0m\u001b[0maxis\u001b[0m\u001b[0;34m:\u001b[0m \u001b[0;34m[\u001b[0m\u001b[0mkeyarr\u001b[0m\u001b[0;34m,\u001b[0m \u001b[0mindexer\u001b[0m\u001b[0;34m]\u001b[0m\u001b[0;34m}\u001b[0m\u001b[0;34m,\u001b[0m \u001b[0mcopy\u001b[0m\u001b[0;34m=\u001b[0m\u001b[0;32mTrue\u001b[0m\u001b[0;34m,\u001b[0m \u001b[0mallow_dups\u001b[0m\u001b[0;34m=\u001b[0m\u001b[0;32mTrue\u001b[0m\u001b[0;34m\u001b[0m\u001b[0;34m\u001b[0m\u001b[0m\n",
      "\u001b[0;32m/opt/anaconda3/lib/python3.8/site-packages/pandas/core/indexing.py\u001b[0m in \u001b[0;36m_get_listlike_indexer\u001b[0;34m(self, key, axis, raise_missing)\u001b[0m\n\u001b[1;32m   1264\u001b[0m             \u001b[0mkeyarr\u001b[0m\u001b[0;34m,\u001b[0m \u001b[0mindexer\u001b[0m\u001b[0;34m,\u001b[0m \u001b[0mnew_indexer\u001b[0m \u001b[0;34m=\u001b[0m \u001b[0max\u001b[0m\u001b[0;34m.\u001b[0m\u001b[0m_reindex_non_unique\u001b[0m\u001b[0;34m(\u001b[0m\u001b[0mkeyarr\u001b[0m\u001b[0;34m)\u001b[0m\u001b[0;34m\u001b[0m\u001b[0;34m\u001b[0m\u001b[0m\n\u001b[1;32m   1265\u001b[0m \u001b[0;34m\u001b[0m\u001b[0m\n\u001b[0;32m-> 1266\u001b[0;31m         \u001b[0mself\u001b[0m\u001b[0;34m.\u001b[0m\u001b[0m_validate_read_indexer\u001b[0m\u001b[0;34m(\u001b[0m\u001b[0mkeyarr\u001b[0m\u001b[0;34m,\u001b[0m \u001b[0mindexer\u001b[0m\u001b[0;34m,\u001b[0m \u001b[0maxis\u001b[0m\u001b[0;34m,\u001b[0m \u001b[0mraise_missing\u001b[0m\u001b[0;34m=\u001b[0m\u001b[0mraise_missing\u001b[0m\u001b[0;34m)\u001b[0m\u001b[0;34m\u001b[0m\u001b[0;34m\u001b[0m\u001b[0m\n\u001b[0m\u001b[1;32m   1267\u001b[0m         \u001b[0;32mreturn\u001b[0m \u001b[0mkeyarr\u001b[0m\u001b[0;34m,\u001b[0m \u001b[0mindexer\u001b[0m\u001b[0;34m\u001b[0m\u001b[0;34m\u001b[0m\u001b[0m\n\u001b[1;32m   1268\u001b[0m \u001b[0;34m\u001b[0m\u001b[0m\n",
      "\u001b[0;32m/opt/anaconda3/lib/python3.8/site-packages/pandas/core/indexing.py\u001b[0m in \u001b[0;36m_validate_read_indexer\u001b[0;34m(self, key, indexer, axis, raise_missing)\u001b[0m\n\u001b[1;32m   1319\u001b[0m \u001b[0;34m\u001b[0m\u001b[0m\n\u001b[1;32m   1320\u001b[0m             \u001b[0;32mwith\u001b[0m \u001b[0moption_context\u001b[0m\u001b[0;34m(\u001b[0m\u001b[0;34m\"display.max_seq_items\"\u001b[0m\u001b[0;34m,\u001b[0m \u001b[0;36m10\u001b[0m\u001b[0;34m,\u001b[0m \u001b[0;34m\"display.width\"\u001b[0m\u001b[0;34m,\u001b[0m \u001b[0;36m80\u001b[0m\u001b[0;34m)\u001b[0m\u001b[0;34m:\u001b[0m\u001b[0;34m\u001b[0m\u001b[0;34m\u001b[0m\u001b[0m\n\u001b[0;32m-> 1321\u001b[0;31m                 raise KeyError(\n\u001b[0m\u001b[1;32m   1322\u001b[0m                     \u001b[0;34m\"Passing list-likes to .loc or [] with any missing labels \"\u001b[0m\u001b[0;34m\u001b[0m\u001b[0;34m\u001b[0m\u001b[0m\n\u001b[1;32m   1323\u001b[0m                     \u001b[0;34m\"is no longer supported. \"\u001b[0m\u001b[0;34m\u001b[0m\u001b[0;34m\u001b[0m\u001b[0m\n",
      "\u001b[0;31mKeyError\u001b[0m: \"Passing list-likes to .loc or [] with any missing labels is no longer supported. The following labels were missing: Index([                                   'Sciurus vulgaris',\\n                                     'Eurasian Red Squirrel',\\n                                          'NBNSYS0000005108',\\n                                                   'species',\\n                                                '2014-12-19',\\n       ...\\n       'Environmental Records Information Centre North East',\\n                                                  'Rodentia',\\n                                                 'Sciuridae',\\n                                                   'Sciurus',\\n                                                         nan],\\n      dtype='object', length=19). See https://pandas.pydata.org/pandas-docs/stable/user_guide/indexing.html#deprecate-loc-reindex-listlike\""
     ]
    }
   ],
   "source": [
    "# for loop is broken\n",
    "\n",
    "for i, row in mammals_date.iterrows():\n",
    "    if mammals_date['Start date'].isna()[row] == False:\n",
    "        mammals_date['Date'][row] = mammals_date['Start date'][row]\n",
    "    elif mammals_date['End date'].isna()[row] == False:\n",
    "        mammals_date['Date'][row] = mammals_date['End date'][row]\n",
    "    else:\n",
    "        mammals_data['Date'][row] = 'NaN'"
   ]
  },
  {
   "cell_type": "markdown",
   "id": "144fecd0-98bc-4ca2-b11a-4176a113a25e",
   "metadata": {},
   "source": [
    "### Recorder Names Cleaning ###\n",
    "* Need to combine 'Withheld', 'Undisclosed' \n",
    "* Combine 'PTES Volunteer' and 'PTES volunteer'\n",
    "* The ID numbers are not so useful - could these be combined in any way? Or at least add on a 'User #' before the number appears"
   ]
  },
  {
   "cell_type": "code",
   "execution_count": null,
   "id": "487b782e-e8b4-4008-9571-bf2d9f27ada9",
   "metadata": {},
   "outputs": [],
   "source": [
    "mammals_df['Recorder'].value_counts().head(20)"
   ]
  },
  {
   "cell_type": "code",
   "execution_count": null,
   "id": "e16c313f-bc8a-4078-b836-d1a303d6860e",
   "metadata": {},
   "outputs": [],
   "source": []
  }
 ],
 "metadata": {
  "kernelspec": {
   "display_name": "Python 3",
   "language": "python",
   "name": "python3"
  },
  "language_info": {
   "codemirror_mode": {
    "name": "ipython",
    "version": 3
   },
   "file_extension": ".py",
   "mimetype": "text/x-python",
   "name": "python",
   "nbconvert_exporter": "python",
   "pygments_lexer": "ipython3",
   "version": "3.8.8"
  }
 },
 "nbformat": 4,
 "nbformat_minor": 5
}
